{
 "cells": [
  {
   "cell_type": "code",
   "execution_count": 3,
   "id": "9f09063c-1c98-48c2-9903-e9fc951de93e",
   "metadata": {},
   "outputs": [],
   "source": [
    "import pandas as pd\n",
    "import numpy as np\n",
    "import seaborn as sns\n",
    "import matplotlib.pyplot as plt"
   ]
  },
  {
   "cell_type": "code",
   "execution_count": 25,
   "id": "f69fd41f-0e0a-41e6-a7eb-accb5be8f4c5",
   "metadata": {},
   "outputs": [],
   "source": [
    "df=pd.read_csv(r\"C:\\Users\\KIIT\\Downloads\\netflix_titles.csv (1)\\netflix_titles.csv\")"
   ]
  },
  {
   "cell_type": "code",
   "execution_count": 26,
   "id": "2ef6050f-6316-4849-9026-e79ce1fb4814",
   "metadata": {},
   "outputs": [
    {
     "data": {
      "text/html": [
       "<div>\n",
       "<style scoped>\n",
       "    .dataframe tbody tr th:only-of-type {\n",
       "        vertical-align: middle;\n",
       "    }\n",
       "\n",
       "    .dataframe tbody tr th {\n",
       "        vertical-align: top;\n",
       "    }\n",
       "\n",
       "    .dataframe thead th {\n",
       "        text-align: right;\n",
       "    }\n",
       "</style>\n",
       "<table border=\"1\" class=\"dataframe\">\n",
       "  <thead>\n",
       "    <tr style=\"text-align: right;\">\n",
       "      <th></th>\n",
       "      <th>show_id</th>\n",
       "      <th>type</th>\n",
       "      <th>title</th>\n",
       "      <th>director</th>\n",
       "      <th>cast</th>\n",
       "      <th>country</th>\n",
       "      <th>date_added</th>\n",
       "      <th>release_year</th>\n",
       "      <th>rating</th>\n",
       "      <th>duration</th>\n",
       "      <th>listed_in</th>\n",
       "      <th>description</th>\n",
       "    </tr>\n",
       "  </thead>\n",
       "  <tbody>\n",
       "    <tr>\n",
       "      <th>0</th>\n",
       "      <td>s1</td>\n",
       "      <td>Movie</td>\n",
       "      <td>Dick Johnson Is Dead</td>\n",
       "      <td>Kirsten Johnson</td>\n",
       "      <td>NaN</td>\n",
       "      <td>United States</td>\n",
       "      <td>September 25, 2021</td>\n",
       "      <td>2020</td>\n",
       "      <td>PG-13</td>\n",
       "      <td>90 min</td>\n",
       "      <td>Documentaries</td>\n",
       "      <td>As her father nears the end of his life, filmm...</td>\n",
       "    </tr>\n",
       "    <tr>\n",
       "      <th>1</th>\n",
       "      <td>s2</td>\n",
       "      <td>TV Show</td>\n",
       "      <td>Blood &amp; Water</td>\n",
       "      <td>NaN</td>\n",
       "      <td>Ama Qamata, Khosi Ngema, Gail Mabalane, Thaban...</td>\n",
       "      <td>South Africa</td>\n",
       "      <td>September 24, 2021</td>\n",
       "      <td>2021</td>\n",
       "      <td>TV-MA</td>\n",
       "      <td>2 Seasons</td>\n",
       "      <td>International TV Shows, TV Dramas, TV Mysteries</td>\n",
       "      <td>After crossing paths at a party, a Cape Town t...</td>\n",
       "    </tr>\n",
       "    <tr>\n",
       "      <th>2</th>\n",
       "      <td>s3</td>\n",
       "      <td>TV Show</td>\n",
       "      <td>Ganglands</td>\n",
       "      <td>Julien Leclercq</td>\n",
       "      <td>Sami Bouajila, Tracy Gotoas, Samuel Jouy, Nabi...</td>\n",
       "      <td>NaN</td>\n",
       "      <td>September 24, 2021</td>\n",
       "      <td>2021</td>\n",
       "      <td>TV-MA</td>\n",
       "      <td>1 Season</td>\n",
       "      <td>Crime TV Shows, International TV Shows, TV Act...</td>\n",
       "      <td>To protect his family from a powerful drug lor...</td>\n",
       "    </tr>\n",
       "    <tr>\n",
       "      <th>3</th>\n",
       "      <td>s4</td>\n",
       "      <td>TV Show</td>\n",
       "      <td>Jailbirds New Orleans</td>\n",
       "      <td>NaN</td>\n",
       "      <td>NaN</td>\n",
       "      <td>NaN</td>\n",
       "      <td>September 24, 2021</td>\n",
       "      <td>2021</td>\n",
       "      <td>TV-MA</td>\n",
       "      <td>1 Season</td>\n",
       "      <td>Docuseries, Reality TV</td>\n",
       "      <td>Feuds, flirtations and toilet talk go down amo...</td>\n",
       "    </tr>\n",
       "    <tr>\n",
       "      <th>4</th>\n",
       "      <td>s5</td>\n",
       "      <td>TV Show</td>\n",
       "      <td>Kota Factory</td>\n",
       "      <td>NaN</td>\n",
       "      <td>Mayur More, Jitendra Kumar, Ranjan Raj, Alam K...</td>\n",
       "      <td>India</td>\n",
       "      <td>September 24, 2021</td>\n",
       "      <td>2021</td>\n",
       "      <td>TV-MA</td>\n",
       "      <td>2 Seasons</td>\n",
       "      <td>International TV Shows, Romantic TV Shows, TV ...</td>\n",
       "      <td>In a city of coaching centers known to train I...</td>\n",
       "    </tr>\n",
       "  </tbody>\n",
       "</table>\n",
       "</div>"
      ],
      "text/plain": [
       "  show_id     type                  title         director  \\\n",
       "0      s1    Movie   Dick Johnson Is Dead  Kirsten Johnson   \n",
       "1      s2  TV Show          Blood & Water              NaN   \n",
       "2      s3  TV Show              Ganglands  Julien Leclercq   \n",
       "3      s4  TV Show  Jailbirds New Orleans              NaN   \n",
       "4      s5  TV Show           Kota Factory              NaN   \n",
       "\n",
       "                                                cast        country  \\\n",
       "0                                                NaN  United States   \n",
       "1  Ama Qamata, Khosi Ngema, Gail Mabalane, Thaban...   South Africa   \n",
       "2  Sami Bouajila, Tracy Gotoas, Samuel Jouy, Nabi...            NaN   \n",
       "3                                                NaN            NaN   \n",
       "4  Mayur More, Jitendra Kumar, Ranjan Raj, Alam K...          India   \n",
       "\n",
       "           date_added  release_year rating   duration  \\\n",
       "0  September 25, 2021          2020  PG-13     90 min   \n",
       "1  September 24, 2021          2021  TV-MA  2 Seasons   \n",
       "2  September 24, 2021          2021  TV-MA   1 Season   \n",
       "3  September 24, 2021          2021  TV-MA   1 Season   \n",
       "4  September 24, 2021          2021  TV-MA  2 Seasons   \n",
       "\n",
       "                                           listed_in  \\\n",
       "0                                      Documentaries   \n",
       "1    International TV Shows, TV Dramas, TV Mysteries   \n",
       "2  Crime TV Shows, International TV Shows, TV Act...   \n",
       "3                             Docuseries, Reality TV   \n",
       "4  International TV Shows, Romantic TV Shows, TV ...   \n",
       "\n",
       "                                         description  \n",
       "0  As her father nears the end of his life, filmm...  \n",
       "1  After crossing paths at a party, a Cape Town t...  \n",
       "2  To protect his family from a powerful drug lor...  \n",
       "3  Feuds, flirtations and toilet talk go down amo...  \n",
       "4  In a city of coaching centers known to train I...  "
      ]
     },
     "execution_count": 26,
     "metadata": {},
     "output_type": "execute_result"
    }
   ],
   "source": [
    "df.head()"
   ]
  },
  {
   "cell_type": "code",
   "execution_count": 27,
   "id": "a7d4a43a-c1ab-4dd3-886c-f40e15f70f34",
   "metadata": {},
   "outputs": [
    {
     "data": {
      "text/plain": [
       "(8807, 12)"
      ]
     },
     "execution_count": 27,
     "metadata": {},
     "output_type": "execute_result"
    }
   ],
   "source": [
    "df.shape"
   ]
  },
  {
   "cell_type": "code",
   "execution_count": 28,
   "id": "2927a202-b860-459d-bd3d-7e687a83b679",
   "metadata": {},
   "outputs": [
    {
     "data": {
      "text/html": [
       "<div>\n",
       "<style scoped>\n",
       "    .dataframe tbody tr th:only-of-type {\n",
       "        vertical-align: middle;\n",
       "    }\n",
       "\n",
       "    .dataframe tbody tr th {\n",
       "        vertical-align: top;\n",
       "    }\n",
       "\n",
       "    .dataframe thead th {\n",
       "        text-align: right;\n",
       "    }\n",
       "</style>\n",
       "<table border=\"1\" class=\"dataframe\">\n",
       "  <thead>\n",
       "    <tr style=\"text-align: right;\">\n",
       "      <th></th>\n",
       "      <th>release_year</th>\n",
       "    </tr>\n",
       "  </thead>\n",
       "  <tbody>\n",
       "    <tr>\n",
       "      <th>count</th>\n",
       "      <td>8807.000000</td>\n",
       "    </tr>\n",
       "    <tr>\n",
       "      <th>mean</th>\n",
       "      <td>2014.180198</td>\n",
       "    </tr>\n",
       "    <tr>\n",
       "      <th>std</th>\n",
       "      <td>8.819312</td>\n",
       "    </tr>\n",
       "    <tr>\n",
       "      <th>min</th>\n",
       "      <td>1925.000000</td>\n",
       "    </tr>\n",
       "    <tr>\n",
       "      <th>25%</th>\n",
       "      <td>2013.000000</td>\n",
       "    </tr>\n",
       "    <tr>\n",
       "      <th>50%</th>\n",
       "      <td>2017.000000</td>\n",
       "    </tr>\n",
       "    <tr>\n",
       "      <th>75%</th>\n",
       "      <td>2019.000000</td>\n",
       "    </tr>\n",
       "    <tr>\n",
       "      <th>max</th>\n",
       "      <td>2021.000000</td>\n",
       "    </tr>\n",
       "  </tbody>\n",
       "</table>\n",
       "</div>"
      ],
      "text/plain": [
       "       release_year\n",
       "count   8807.000000\n",
       "mean    2014.180198\n",
       "std        8.819312\n",
       "min     1925.000000\n",
       "25%     2013.000000\n",
       "50%     2017.000000\n",
       "75%     2019.000000\n",
       "max     2021.000000"
      ]
     },
     "execution_count": 28,
     "metadata": {},
     "output_type": "execute_result"
    }
   ],
   "source": [
    "df.describe()"
   ]
  },
  {
   "cell_type": "code",
   "execution_count": 29,
   "id": "7d0e2307-7f2e-4a02-a86e-7089841b3e11",
   "metadata": {},
   "outputs": [
    {
     "data": {
      "text/plain": [
       "0"
      ]
     },
     "execution_count": 29,
     "metadata": {},
     "output_type": "execute_result"
    }
   ],
   "source": [
    "df.duplicated().sum()"
   ]
  },
  {
   "cell_type": "code",
   "execution_count": 30,
   "id": "18763faa-e537-4577-8823-fdc1ded8b223",
   "metadata": {},
   "outputs": [
    {
     "name": "stdout",
     "output_type": "stream",
     "text": [
      "<class 'pandas.core.frame.DataFrame'>\n",
      "RangeIndex: 8807 entries, 0 to 8806\n",
      "Data columns (total 12 columns):\n",
      " #   Column        Non-Null Count  Dtype \n",
      "---  ------        --------------  ----- \n",
      " 0   show_id       8807 non-null   object\n",
      " 1   type          8807 non-null   object\n",
      " 2   title         8807 non-null   object\n",
      " 3   director      6173 non-null   object\n",
      " 4   cast          7982 non-null   object\n",
      " 5   country       7976 non-null   object\n",
      " 6   date_added    8797 non-null   object\n",
      " 7   release_year  8807 non-null   int64 \n",
      " 8   rating        8803 non-null   object\n",
      " 9   duration      8804 non-null   object\n",
      " 10  listed_in     8807 non-null   object\n",
      " 11  description   8807 non-null   object\n",
      "dtypes: int64(1), object(11)\n",
      "memory usage: 825.8+ KB\n"
     ]
    }
   ],
   "source": [
    "df.info()"
   ]
  },
  {
   "cell_type": "code",
   "execution_count": 13,
   "id": "75ca0fce-231b-4a78-9d66-fbbbfc283348",
   "metadata": {},
   "outputs": [],
   "source": [
    "#checking missing values"
   ]
  },
  {
   "cell_type": "code",
   "execution_count": 31,
   "id": "2aecd7dd-d730-4990-9df2-dd78dab95dc9",
   "metadata": {},
   "outputs": [
    {
     "data": {
      "text/plain": [
       "show_id          0.000000\n",
       "type             0.000000\n",
       "title            0.000000\n",
       "director        29.908028\n",
       "cast             9.367549\n",
       "country          9.435676\n",
       "date_added       0.113546\n",
       "release_year     0.000000\n",
       "rating           0.045418\n",
       "duration         0.034064\n",
       "listed_in        0.000000\n",
       "description      0.000000\n",
       "dtype: float64"
      ]
     },
     "execution_count": 31,
     "metadata": {},
     "output_type": "execute_result"
    }
   ],
   "source": [
    "df.isnull().mean()*100"
   ]
  },
  {
   "cell_type": "code",
   "execution_count": 16,
   "id": "21d61132-c3df-41f3-b0d8-830ea26ad46f",
   "metadata": {},
   "outputs": [],
   "source": [
    "#handling missing values\n"
   ]
  },
  {
   "cell_type": "code",
   "execution_count": 32,
   "id": "caaeb34f-eff3-4f4b-846d-4ece8f77d011",
   "metadata": {},
   "outputs": [
    {
     "data": {
      "text/plain": [
       "0"
      ]
     },
     "execution_count": 32,
     "metadata": {},
     "output_type": "execute_result"
    }
   ],
   "source": [
    "df['country']=df['country'].fillna(data['country'].mode()[0])\n",
    "df['country'].isnull().sum()"
   ]
  },
  {
   "cell_type": "code",
   "execution_count": 20,
   "id": "0f350cdc-8675-4bfc-bff2-666337e0a749",
   "metadata": {},
   "outputs": [],
   "source": [
    "#Data cleaning"
   ]
  },
  {
   "cell_type": "code",
   "execution_count": 34,
   "id": "ec1140fc-64d9-4817-8fc5-cf501e756076",
   "metadata": {},
   "outputs": [],
   "source": [
    "df.dropna(inplace=True)\n",
    "\n",
    "# Drop Duplicates\n",
    "df.drop_duplicates(inplace= True)"
   ]
  },
  {
   "cell_type": "code",
   "execution_count": 35,
   "id": "e0b253fc-58cc-485b-a134-c6de4ecb975d",
   "metadata": {},
   "outputs": [],
   "source": [
    "df = df.drop(columns=['cast', 'show_id', 'title', 'description'],axis=1)"
   ]
  },
  {
   "cell_type": "code",
   "execution_count": 36,
   "id": "032a3f59-893c-4736-b5ca-5dcca0b83ee5",
   "metadata": {},
   "outputs": [
    {
     "data": {
      "text/html": [
       "<div>\n",
       "<style scoped>\n",
       "    .dataframe tbody tr th:only-of-type {\n",
       "        vertical-align: middle;\n",
       "    }\n",
       "\n",
       "    .dataframe tbody tr th {\n",
       "        vertical-align: top;\n",
       "    }\n",
       "\n",
       "    .dataframe thead th {\n",
       "        text-align: right;\n",
       "    }\n",
       "</style>\n",
       "<table border=\"1\" class=\"dataframe\">\n",
       "  <thead>\n",
       "    <tr style=\"text-align: right;\">\n",
       "      <th></th>\n",
       "      <th>type</th>\n",
       "      <th>director</th>\n",
       "      <th>country</th>\n",
       "      <th>date_added</th>\n",
       "      <th>release_year</th>\n",
       "      <th>rating</th>\n",
       "      <th>duration</th>\n",
       "      <th>listed_in</th>\n",
       "    </tr>\n",
       "  </thead>\n",
       "  <tbody>\n",
       "    <tr>\n",
       "      <th>2</th>\n",
       "      <td>TV Show</td>\n",
       "      <td>Julien Leclercq</td>\n",
       "      <td>United States</td>\n",
       "      <td>September 24, 2021</td>\n",
       "      <td>2021</td>\n",
       "      <td>TV-MA</td>\n",
       "      <td>1 Season</td>\n",
       "      <td>Crime TV Shows, International TV Shows, TV Act...</td>\n",
       "    </tr>\n",
       "    <tr>\n",
       "      <th>5</th>\n",
       "      <td>TV Show</td>\n",
       "      <td>Mike Flanagan</td>\n",
       "      <td>United States</td>\n",
       "      <td>September 24, 2021</td>\n",
       "      <td>2021</td>\n",
       "      <td>TV-MA</td>\n",
       "      <td>1 Season</td>\n",
       "      <td>TV Dramas, TV Horror, TV Mysteries</td>\n",
       "    </tr>\n",
       "    <tr>\n",
       "      <th>6</th>\n",
       "      <td>Movie</td>\n",
       "      <td>Robert Cullen, José Luis Ucha</td>\n",
       "      <td>United States</td>\n",
       "      <td>September 24, 2021</td>\n",
       "      <td>2021</td>\n",
       "      <td>PG</td>\n",
       "      <td>91 min</td>\n",
       "      <td>Children &amp; Family Movies</td>\n",
       "    </tr>\n",
       "    <tr>\n",
       "      <th>7</th>\n",
       "      <td>Movie</td>\n",
       "      <td>Haile Gerima</td>\n",
       "      <td>United States, Ghana, Burkina Faso, United Kin...</td>\n",
       "      <td>September 24, 2021</td>\n",
       "      <td>1993</td>\n",
       "      <td>TV-MA</td>\n",
       "      <td>125 min</td>\n",
       "      <td>Dramas, Independent Movies, International Movies</td>\n",
       "    </tr>\n",
       "    <tr>\n",
       "      <th>8</th>\n",
       "      <td>TV Show</td>\n",
       "      <td>Andy Devonshire</td>\n",
       "      <td>United Kingdom</td>\n",
       "      <td>September 24, 2021</td>\n",
       "      <td>2021</td>\n",
       "      <td>TV-14</td>\n",
       "      <td>9 Seasons</td>\n",
       "      <td>British TV Shows, Reality TV</td>\n",
       "    </tr>\n",
       "  </tbody>\n",
       "</table>\n",
       "</div>"
      ],
      "text/plain": [
       "      type                       director  \\\n",
       "2  TV Show                Julien Leclercq   \n",
       "5  TV Show                  Mike Flanagan   \n",
       "6    Movie  Robert Cullen, José Luis Ucha   \n",
       "7    Movie                   Haile Gerima   \n",
       "8  TV Show                Andy Devonshire   \n",
       "\n",
       "                                             country          date_added  \\\n",
       "2                                      United States  September 24, 2021   \n",
       "5                                      United States  September 24, 2021   \n",
       "6                                      United States  September 24, 2021   \n",
       "7  United States, Ghana, Burkina Faso, United Kin...  September 24, 2021   \n",
       "8                                     United Kingdom  September 24, 2021   \n",
       "\n",
       "   release_year rating   duration  \\\n",
       "2          2021  TV-MA   1 Season   \n",
       "5          2021  TV-MA   1 Season   \n",
       "6          2021     PG     91 min   \n",
       "7          1993  TV-MA    125 min   \n",
       "8          2021  TV-14  9 Seasons   \n",
       "\n",
       "                                           listed_in  \n",
       "2  Crime TV Shows, International TV Shows, TV Act...  \n",
       "5                 TV Dramas, TV Horror, TV Mysteries  \n",
       "6                           Children & Family Movies  \n",
       "7   Dramas, Independent Movies, International Movies  \n",
       "8                       British TV Shows, Reality TV  "
      ]
     },
     "execution_count": 36,
     "metadata": {},
     "output_type": "execute_result"
    }
   ],
   "source": [
    "df.head()"
   ]
  },
  {
   "cell_type": "code",
   "execution_count": 37,
   "id": "4ec0d706-73e0-4bfc-8e61-55fa79394d04",
   "metadata": {},
   "outputs": [],
   "source": [
    "df.rename(columns={'listed_in' :'genre'}, inplace=True)"
   ]
  },
  {
   "cell_type": "code",
   "execution_count": 38,
   "id": "cd077ae3-1ffa-47c1-adeb-461ec36c7911",
   "metadata": {},
   "outputs": [
    {
     "data": {
      "text/html": [
       "<div>\n",
       "<style scoped>\n",
       "    .dataframe tbody tr th:only-of-type {\n",
       "        vertical-align: middle;\n",
       "    }\n",
       "\n",
       "    .dataframe tbody tr th {\n",
       "        vertical-align: top;\n",
       "    }\n",
       "\n",
       "    .dataframe thead th {\n",
       "        text-align: right;\n",
       "    }\n",
       "</style>\n",
       "<table border=\"1\" class=\"dataframe\">\n",
       "  <thead>\n",
       "    <tr style=\"text-align: right;\">\n",
       "      <th></th>\n",
       "      <th>type</th>\n",
       "      <th>director</th>\n",
       "      <th>country</th>\n",
       "      <th>date_added</th>\n",
       "      <th>release_year</th>\n",
       "      <th>rating</th>\n",
       "      <th>duration</th>\n",
       "      <th>genre</th>\n",
       "    </tr>\n",
       "  </thead>\n",
       "  <tbody>\n",
       "    <tr>\n",
       "      <th>2</th>\n",
       "      <td>TV Show</td>\n",
       "      <td>Julien Leclercq</td>\n",
       "      <td>United States</td>\n",
       "      <td>September 24, 2021</td>\n",
       "      <td>2021</td>\n",
       "      <td>TV-MA</td>\n",
       "      <td>1 Season</td>\n",
       "      <td>Crime TV Shows, International TV Shows, TV Act...</td>\n",
       "    </tr>\n",
       "    <tr>\n",
       "      <th>5</th>\n",
       "      <td>TV Show</td>\n",
       "      <td>Mike Flanagan</td>\n",
       "      <td>United States</td>\n",
       "      <td>September 24, 2021</td>\n",
       "      <td>2021</td>\n",
       "      <td>TV-MA</td>\n",
       "      <td>1 Season</td>\n",
       "      <td>TV Dramas, TV Horror, TV Mysteries</td>\n",
       "    </tr>\n",
       "    <tr>\n",
       "      <th>6</th>\n",
       "      <td>Movie</td>\n",
       "      <td>Robert Cullen, José Luis Ucha</td>\n",
       "      <td>United States</td>\n",
       "      <td>September 24, 2021</td>\n",
       "      <td>2021</td>\n",
       "      <td>PG</td>\n",
       "      <td>91 min</td>\n",
       "      <td>Children &amp; Family Movies</td>\n",
       "    </tr>\n",
       "    <tr>\n",
       "      <th>7</th>\n",
       "      <td>Movie</td>\n",
       "      <td>Haile Gerima</td>\n",
       "      <td>United States, Ghana, Burkina Faso, United Kin...</td>\n",
       "      <td>September 24, 2021</td>\n",
       "      <td>1993</td>\n",
       "      <td>TV-MA</td>\n",
       "      <td>125 min</td>\n",
       "      <td>Dramas, Independent Movies, International Movies</td>\n",
       "    </tr>\n",
       "    <tr>\n",
       "      <th>8</th>\n",
       "      <td>TV Show</td>\n",
       "      <td>Andy Devonshire</td>\n",
       "      <td>United Kingdom</td>\n",
       "      <td>September 24, 2021</td>\n",
       "      <td>2021</td>\n",
       "      <td>TV-14</td>\n",
       "      <td>9 Seasons</td>\n",
       "      <td>British TV Shows, Reality TV</td>\n",
       "    </tr>\n",
       "  </tbody>\n",
       "</table>\n",
       "</div>"
      ],
      "text/plain": [
       "      type                       director  \\\n",
       "2  TV Show                Julien Leclercq   \n",
       "5  TV Show                  Mike Flanagan   \n",
       "6    Movie  Robert Cullen, José Luis Ucha   \n",
       "7    Movie                   Haile Gerima   \n",
       "8  TV Show                Andy Devonshire   \n",
       "\n",
       "                                             country          date_added  \\\n",
       "2                                      United States  September 24, 2021   \n",
       "5                                      United States  September 24, 2021   \n",
       "6                                      United States  September 24, 2021   \n",
       "7  United States, Ghana, Burkina Faso, United Kin...  September 24, 2021   \n",
       "8                                     United Kingdom  September 24, 2021   \n",
       "\n",
       "   release_year rating   duration  \\\n",
       "2          2021  TV-MA   1 Season   \n",
       "5          2021  TV-MA   1 Season   \n",
       "6          2021     PG     91 min   \n",
       "7          1993  TV-MA    125 min   \n",
       "8          2021  TV-14  9 Seasons   \n",
       "\n",
       "                                               genre  \n",
       "2  Crime TV Shows, International TV Shows, TV Act...  \n",
       "5                 TV Dramas, TV Horror, TV Mysteries  \n",
       "6                           Children & Family Movies  \n",
       "7   Dramas, Independent Movies, International Movies  \n",
       "8                       British TV Shows, Reality TV  "
      ]
     },
     "execution_count": 38,
     "metadata": {},
     "output_type": "execute_result"
    }
   ],
   "source": [
    "df.head()"
   ]
  },
  {
   "cell_type": "code",
   "execution_count": 39,
   "id": "462f922a-c5ab-4fa5-8ced-12b6ecc622d0",
   "metadata": {},
   "outputs": [
    {
     "name": "stderr",
     "output_type": "stream",
     "text": [
      "C:\\Users\\KIIT\\AppData\\Local\\Temp\\ipykernel_11804\\1147548429.py:1: UserWarning: The argument 'infer_datetime_format' is deprecated and will be removed in a future version. A strict version of it is now the default, see https://pandas.pydata.org/pdeps/0004-consistent-to-datetime-parsing.html. You can safely remove this argument.\n",
      "  df['date_added'] = pd.to_datetime(df['date_added'], errors='coerce', infer_datetime_format=True)\n"
     ]
    }
   ],
   "source": [
    "df['date_added'] = pd.to_datetime(df['date_added'], errors='coerce', infer_datetime_format=True)"
   ]
  },
  {
   "cell_type": "code",
   "execution_count": 40,
   "id": "8144d17f-74b4-4de0-a350-39650eed2741",
   "metadata": {},
   "outputs": [
    {
     "data": {
      "text/html": [
       "<div>\n",
       "<style scoped>\n",
       "    .dataframe tbody tr th:only-of-type {\n",
       "        vertical-align: middle;\n",
       "    }\n",
       "\n",
       "    .dataframe tbody tr th {\n",
       "        vertical-align: top;\n",
       "    }\n",
       "\n",
       "    .dataframe thead th {\n",
       "        text-align: right;\n",
       "    }\n",
       "</style>\n",
       "<table border=\"1\" class=\"dataframe\">\n",
       "  <thead>\n",
       "    <tr style=\"text-align: right;\">\n",
       "      <th></th>\n",
       "      <th>type</th>\n",
       "      <th>director</th>\n",
       "      <th>country</th>\n",
       "      <th>date_added</th>\n",
       "      <th>release_year</th>\n",
       "      <th>rating</th>\n",
       "      <th>duration</th>\n",
       "      <th>genre</th>\n",
       "    </tr>\n",
       "  </thead>\n",
       "  <tbody>\n",
       "    <tr>\n",
       "      <th>2</th>\n",
       "      <td>TV Show</td>\n",
       "      <td>Julien Leclercq</td>\n",
       "      <td>United States</td>\n",
       "      <td>2021-09-24</td>\n",
       "      <td>2021</td>\n",
       "      <td>TV-MA</td>\n",
       "      <td>1 Season</td>\n",
       "      <td>Crime TV Shows, International TV Shows, TV Act...</td>\n",
       "    </tr>\n",
       "    <tr>\n",
       "      <th>5</th>\n",
       "      <td>TV Show</td>\n",
       "      <td>Mike Flanagan</td>\n",
       "      <td>United States</td>\n",
       "      <td>2021-09-24</td>\n",
       "      <td>2021</td>\n",
       "      <td>TV-MA</td>\n",
       "      <td>1 Season</td>\n",
       "      <td>TV Dramas, TV Horror, TV Mysteries</td>\n",
       "    </tr>\n",
       "    <tr>\n",
       "      <th>6</th>\n",
       "      <td>Movie</td>\n",
       "      <td>Robert Cullen, José Luis Ucha</td>\n",
       "      <td>United States</td>\n",
       "      <td>2021-09-24</td>\n",
       "      <td>2021</td>\n",
       "      <td>PG</td>\n",
       "      <td>91 min</td>\n",
       "      <td>Children &amp; Family Movies</td>\n",
       "    </tr>\n",
       "    <tr>\n",
       "      <th>7</th>\n",
       "      <td>Movie</td>\n",
       "      <td>Haile Gerima</td>\n",
       "      <td>United States, Ghana, Burkina Faso, United Kin...</td>\n",
       "      <td>2021-09-24</td>\n",
       "      <td>1993</td>\n",
       "      <td>TV-MA</td>\n",
       "      <td>125 min</td>\n",
       "      <td>Dramas, Independent Movies, International Movies</td>\n",
       "    </tr>\n",
       "    <tr>\n",
       "      <th>8</th>\n",
       "      <td>TV Show</td>\n",
       "      <td>Andy Devonshire</td>\n",
       "      <td>United Kingdom</td>\n",
       "      <td>2021-09-24</td>\n",
       "      <td>2021</td>\n",
       "      <td>TV-14</td>\n",
       "      <td>9 Seasons</td>\n",
       "      <td>British TV Shows, Reality TV</td>\n",
       "    </tr>\n",
       "  </tbody>\n",
       "</table>\n",
       "</div>"
      ],
      "text/plain": [
       "      type                       director  \\\n",
       "2  TV Show                Julien Leclercq   \n",
       "5  TV Show                  Mike Flanagan   \n",
       "6    Movie  Robert Cullen, José Luis Ucha   \n",
       "7    Movie                   Haile Gerima   \n",
       "8  TV Show                Andy Devonshire   \n",
       "\n",
       "                                             country date_added  release_year  \\\n",
       "2                                      United States 2021-09-24          2021   \n",
       "5                                      United States 2021-09-24          2021   \n",
       "6                                      United States 2021-09-24          2021   \n",
       "7  United States, Ghana, Burkina Faso, United Kin... 2021-09-24          1993   \n",
       "8                                     United Kingdom 2021-09-24          2021   \n",
       "\n",
       "  rating   duration                                              genre  \n",
       "2  TV-MA   1 Season  Crime TV Shows, International TV Shows, TV Act...  \n",
       "5  TV-MA   1 Season                 TV Dramas, TV Horror, TV Mysteries  \n",
       "6     PG     91 min                           Children & Family Movies  \n",
       "7  TV-MA    125 min   Dramas, Independent Movies, International Movies  \n",
       "8  TV-14  9 Seasons                       British TV Shows, Reality TV  "
      ]
     },
     "execution_count": 40,
     "metadata": {},
     "output_type": "execute_result"
    }
   ],
   "source": [
    "df.head()"
   ]
  },
  {
   "cell_type": "code",
   "execution_count": 41,
   "id": "8bf5d5a2-d46f-45d9-bbf1-730ec290dff0",
   "metadata": {},
   "outputs": [
    {
     "name": "stdout",
     "output_type": "stream",
     "text": [
      "<class 'pandas.core.frame.DataFrame'>\n",
      "Index: 5696 entries, 2 to 8806\n",
      "Data columns (total 8 columns):\n",
      " #   Column        Non-Null Count  Dtype         \n",
      "---  ------        --------------  -----         \n",
      " 0   type          5696 non-null   object        \n",
      " 1   director      5696 non-null   object        \n",
      " 2   country       5696 non-null   object        \n",
      " 3   date_added    5692 non-null   datetime64[ns]\n",
      " 4   release_year  5696 non-null   int64         \n",
      " 5   rating        5696 non-null   object        \n",
      " 6   duration      5696 non-null   object        \n",
      " 7   genre         5696 non-null   object        \n",
      "dtypes: datetime64[ns](1), int64(1), object(6)\n",
      "memory usage: 400.5+ KB\n"
     ]
    }
   ],
   "source": [
    "df.info()"
   ]
  },
  {
   "cell_type": "code",
   "execution_count": 42,
   "id": "dd9eefb4-fadc-45c9-b3c9-0fefea66a8b2",
   "metadata": {},
   "outputs": [],
   "source": [
    "#Calculating the value of each column"
   ]
  },
  {
   "cell_type": "code",
   "execution_count": 43,
   "id": "19d27ce2-e7ac-4f20-9df4-e77d7d23a2b0",
   "metadata": {},
   "outputs": [
    {
     "name": "stdout",
     "output_type": "stream",
     "text": [
      "type\n",
      "Movie      5518\n",
      "TV Show     178\n",
      "Name: count, dtype: int64\n"
     ]
    }
   ],
   "source": [
    "print(df['type'].value_counts())"
   ]
  },
  {
   "cell_type": "code",
   "execution_count": 44,
   "id": "104464bc-9f30-4a59-b7fe-d1278154ed01",
   "metadata": {},
   "outputs": [
    {
     "name": "stdout",
     "output_type": "stream",
     "text": [
      "Directors   director\n",
      "Raúl Campos, Jan Suter    18\n",
      "Rajiv Chilaka             17\n",
      "Marcus Raboy              16\n",
      "Jay Karas                 14\n",
      "Suhas Kadav               13\n",
      "Name: count, dtype: int64\n"
     ]
    }
   ],
   "source": [
    "print(\"Directors  \"  ,df['director'].value_counts().head(5))"
   ]
  },
  {
   "cell_type": "code",
   "execution_count": 45,
   "id": "edfaec13-4ffb-4ef6-8dfd-f390e382e08a",
   "metadata": {},
   "outputs": [
    {
     "name": "stdout",
     "output_type": "stream",
     "text": [
      "Country   country\n",
      "United States     2210\n",
      "India              875\n",
      "United Kingdom     183\n",
      "Canada             107\n",
      "Spain               91\n",
      "Name: count, dtype: int64\n"
     ]
    }
   ],
   "source": [
    "print(\"Country  \",df['country'].value_counts().head(5))"
   ]
  },
  {
   "cell_type": "code",
   "execution_count": 46,
   "id": "f7287daf-183a-4da7-a3af-c08674c05376",
   "metadata": {},
   "outputs": [
    {
     "name": "stdout",
     "output_type": "stream",
     "text": [
      "Date   date_added\n",
      "2020-01-01    97\n",
      "2019-11-01    70\n",
      "2019-12-31    67\n",
      "2018-03-01    67\n",
      "2018-10-01    62\n",
      "Name: count, dtype: int64\n"
     ]
    }
   ],
   "source": [
    "print(\"Date  \",df['date_added'].value_counts().head(5))"
   ]
  },
  {
   "cell_type": "code",
   "execution_count": 47,
   "id": "0053be50-ce9b-46cf-a97f-a626cde9e4c7",
   "metadata": {},
   "outputs": [
    {
     "name": "stdout",
     "output_type": "stream",
     "text": [
      "Release_year   release_year\n",
      "2018    691\n",
      "2017    683\n",
      "2016    584\n",
      "2019    570\n",
      "2020    499\n",
      "Name: count, dtype: int64\n"
     ]
    }
   ],
   "source": [
    "print(\"Release_year  \",df['release_year'].value_counts().head(5))"
   ]
  },
  {
   "cell_type": "code",
   "execution_count": 48,
   "id": "d5a1f183-b20f-46b0-940e-5535d64fac26",
   "metadata": {},
   "outputs": [
    {
     "name": "stdout",
     "output_type": "stream",
     "text": [
      "Genre  genre\n",
      "Dramas, International Movies                        361\n",
      "Stand-Up Comedy                                     309\n",
      "Comedies, Dramas, International Movies              271\n",
      "Dramas, Independent Movies, International Movies    252\n",
      "Children & Family Movies, Comedies                  193\n",
      "Name: count, dtype: int64\n"
     ]
    }
   ],
   "source": [
    "print(\"Genre \",df['genre'].value_counts().head(5))"
   ]
  },
  {
   "cell_type": "code",
   "execution_count": 49,
   "id": "a1b19974-8858-4a5c-a0ae-7b10e3bac227",
   "metadata": {},
   "outputs": [
    {
     "name": "stdout",
     "output_type": "stream",
     "text": [
      "Rating   rating\n",
      "TV-MA    1939\n",
      "TV-14    1329\n",
      "R         789\n",
      "PG-13     477\n",
      "TV-PG     456\n",
      "Name: count, dtype: int64\n"
     ]
    }
   ],
   "source": [
    "print(\"Rating  \",df['rating'].value_counts().head(5))"
   ]
  },
  {
   "cell_type": "code",
   "execution_count": 50,
   "id": "e4a7d2bc-1075-4eca-8524-f66c3a211822",
   "metadata": {},
   "outputs": [
    {
     "name": "stdout",
     "output_type": "stream",
     "text": [
      "Duration   duration\n",
      "94 min      140\n",
      "1 Season    137\n",
      "97 min      136\n",
      "93 min      135\n",
      "95 min      129\n",
      "Name: count, dtype: int64\n"
     ]
    }
   ],
   "source": [
    "print(\"Duration  \",df['duration'].value_counts().head(5))"
   ]
  },
  {
   "cell_type": "code",
   "execution_count": 51,
   "id": "ca08a7d1-b5a1-4b83-a73a-e06fc0766e20",
   "metadata": {},
   "outputs": [],
   "source": [
    "#ANALYZING TOP 10 MOVIES AND TV-SHOWS"
   ]
  },
  {
   "cell_type": "code",
   "execution_count": 52,
   "id": "eb2c2548-816f-43b5-9801-83a7b561b69c",
   "metadata": {},
   "outputs": [
    {
     "name": "stdout",
     "output_type": "stream",
     "text": [
      "                 director  count\n",
      "0  Raúl Campos, Jan Suter     18\n",
      "1           Rajiv Chilaka     17\n",
      "2            Marcus Raboy     15\n",
      "3               Jay Karas     14\n",
      "4             Suhas Kadav     13\n",
      "5     Cathy Garcia-Molina     13\n",
      "6         Youssef Chahine     12\n",
      "7         Martin Scorsese     12\n",
      "8             Jay Chapman     12\n",
      "9        Steven Spielberg     11\n"
     ]
    }
   ],
   "source": [
    "directors_Movies = df['director'][df['type']=='Movie'].value_counts().sort_values(ascending=False)[0:10].reset_index()\n",
    "print(directors_Movies)"
   ]
  },
  {
   "cell_type": "code",
   "execution_count": 53,
   "id": "1ddb10c8-544d-47b1-9556-5d851fb53ce0",
   "metadata": {},
   "outputs": [
    {
     "name": "stdout",
     "output_type": "stream",
     "text": [
      "              director  count\n",
      "0  Alastair Fothergill      3\n",
      "1       Iginio Straffi      2\n",
      "2          Stan Lathan      2\n",
      "3      Rob Seidenglanz      2\n",
      "4          Hsu Fu-chun      2\n",
      "5          Shin Won-ho      2\n",
      "6     Sakon Tiacharoen      1\n",
      "7      Andy Devonshire      1\n",
      "8    Kongkiat Komesiri      1\n",
      "9       Bunmi Ajakaiye      1\n"
     ]
    }
   ],
   "source": [
    "directors_TV_Shows = df['director'][df['type']=='TV Show'].value_counts().sort_values(ascending=False)[0:10].reset_index()\n",
    "print(directors_TV_Shows)"
   ]
  },
  {
   "cell_type": "code",
   "execution_count": 54,
   "id": "0778603e-a7ea-4b99-b398-a188b96a6304",
   "metadata": {},
   "outputs": [
    {
     "name": "stdout",
     "output_type": "stream",
     "text": [
      "          country  count\n",
      "0   United States   2152\n",
      "1           India    868\n",
      "2  United Kingdom    164\n",
      "3          Canada    104\n",
      "4           Egypt     90\n",
      "5         Nigeria     84\n",
      "6           Spain     84\n",
      "7       Indonesia     76\n",
      "8          Turkey     74\n",
      "9           Japan     73\n"
     ]
    }
   ],
   "source": [
    "Country_Movies = df['country'][df['type']=='Movie'].value_counts().sort_values(ascending=False)[0:10].reset_index()\n",
    "print(Country_Movies)"
   ]
  },
  {
   "cell_type": "code",
   "execution_count": 55,
   "id": "2b2015eb-93e6-4de9-af90-5cba8abe1c00",
   "metadata": {},
   "outputs": [
    {
     "name": "stdout",
     "output_type": "stream",
     "text": [
      "          country  count\n",
      "0   United States     58\n",
      "1  United Kingdom     19\n",
      "2           Japan     10\n",
      "3     South Korea     10\n",
      "4           Spain      7\n",
      "5           India      7\n",
      "6          Taiwan      7\n",
      "7          France      5\n",
      "8          Turkey      5\n",
      "9        Thailand      5\n"
     ]
    }
   ],
   "source": [
    "Country_TV_Shows = df['country'][df['type']=='TV Show'].value_counts().sort_values(ascending=False)[0:10].reset_index()\n",
    "print(Country_TV_Shows )"
   ]
  },
  {
   "cell_type": "code",
   "execution_count": 56,
   "id": "3d9ff0d2-17b7-49ce-a487-a412fda58a43",
   "metadata": {},
   "outputs": [
    {
     "name": "stdout",
     "output_type": "stream",
     "text": [
      "  date_added  count\n",
      "0 2020-01-01     97\n",
      "1 2019-11-01     70\n",
      "2 2018-03-01     67\n",
      "3 2019-12-31     67\n",
      "4 2018-10-01     62\n",
      "5 2018-11-01     52\n",
      "6 2021-07-01     52\n",
      "7 2019-10-01     49\n",
      "8 2021-09-01     48\n",
      "9 2021-06-02     41\n"
     ]
    }
   ],
   "source": [
    "Datewise_Movies = df['date_added'][df['type']=='Movie'].value_counts().sort_values(ascending=False)[0:10].reset_index()\n",
    "print(Datewise_Movies)"
   ]
  },
  {
   "cell_type": "code",
   "execution_count": 57,
   "id": "565be26a-e870-403d-ae76-5e975dcc7cd5",
   "metadata": {},
   "outputs": [
    {
     "name": "stdout",
     "output_type": "stream",
     "text": [
      "  date_added  count\n",
      "0 2017-03-31      4\n",
      "1 2021-06-19      3\n",
      "2 2021-09-24      3\n",
      "3 2019-08-15      2\n",
      "4 2021-08-13      2\n",
      "5 2019-12-15      2\n",
      "6 2017-12-31      2\n",
      "7 2019-09-20      2\n",
      "8 2021-07-01      2\n",
      "9 2020-05-15      2\n"
     ]
    }
   ],
   "source": [
    "Datewise_TV_Shows = df['date_added'][df['type']=='TV Show'].value_counts().sort_values(ascending=False)[0:10].reset_index()\n",
    "print(Datewise_TV_Shows)"
   ]
  },
  {
   "cell_type": "code",
   "execution_count": 58,
   "id": "4da4570f-9af9-46e6-aec0-880a0328a8e4",
   "metadata": {},
   "outputs": [
    {
     "name": "stdout",
     "output_type": "stream",
     "text": [
      "   release_year  count\n",
      "0          2018    673\n",
      "1          2017    664\n",
      "2          2016    574\n",
      "3          2019    544\n",
      "4          2020    458\n",
      "5          2015    354\n",
      "6          2014    244\n",
      "7          2021    227\n",
      "8          2013    207\n",
      "9          2012    165\n"
     ]
    }
   ],
   "source": [
    "ReleaseYearwise_Movies = df['release_year'][df['type']=='Movie'].value_counts().sort_values(ascending=False)[0:10].reset_index()\n",
    "print(ReleaseYearwise_Movies)"
   ]
  },
  {
   "cell_type": "code",
   "execution_count": 59,
   "id": "b46128de-2657-4eca-90c8-23840cc44a20",
   "metadata": {},
   "outputs": [
    {
     "name": "stdout",
     "output_type": "stream",
     "text": [
      "   release_year  count\n",
      "0          2020     41\n",
      "1          2021     29\n",
      "2          2019     26\n",
      "3          2017     19\n",
      "4          2018     18\n",
      "5          2015     11\n",
      "6          2016     10\n",
      "7          2014      8\n",
      "8          2012      4\n",
      "9          2011      3\n"
     ]
    }
   ],
   "source": [
    "ReleaseYearwise_TV_Shows = df['release_year'][df['type']=='TV Show'].value_counts().sort_values(ascending=False)[0:10].reset_index()\n",
    "print(ReleaseYearwise_TV_Shows)"
   ]
  },
  {
   "cell_type": "code",
   "execution_count": 60,
   "id": "bd4b78a0-94a1-4a41-a206-8ab4bb7c8d6e",
   "metadata": {},
   "outputs": [
    {
     "name": "stdout",
     "output_type": "stream",
     "text": [
      "  rating  count\n",
      "0  TV-MA   1842\n",
      "1  TV-14   1279\n",
      "2      R    788\n",
      "3  PG-13    477\n",
      "4  TV-PG    441\n",
      "5     PG    279\n",
      "6  TV-Y7    116\n",
      "7   TV-Y     97\n",
      "8   TV-G     93\n",
      "9     NR     58\n"
     ]
    }
   ],
   "source": [
    "Ratingwise_Movies = df['rating'][df['type']=='Movie'].value_counts().sort_values(ascending=False)[0:10].reset_index()\n",
    "print(Ratingwise_Movies)"
   ]
  },
  {
   "cell_type": "code",
   "execution_count": 61,
   "id": "e158a85b-39b2-4fd8-bebc-e11be9a019ee",
   "metadata": {},
   "outputs": [
    {
     "name": "stdout",
     "output_type": "stream",
     "text": [
      "  rating  count\n",
      "0  TV-MA     97\n",
      "1  TV-14     50\n",
      "2  TV-PG     15\n",
      "3  TV-Y7      7\n",
      "4   TV-Y      5\n",
      "5   TV-G      3\n",
      "6      R      1\n"
     ]
    }
   ],
   "source": [
    "Ratingwise_TV_Shows =df['rating'][df['type']=='TV Show'].value_counts().sort_values(ascending=False)[0:10].reset_index()\n",
    "print(Ratingwise_TV_Shows)"
   ]
  },
  {
   "cell_type": "code",
   "execution_count": 62,
   "id": "128e3b4a-a36b-4186-becf-93572780c6dd",
   "metadata": {},
   "outputs": [
    {
     "name": "stdout",
     "output_type": "stream",
     "text": [
      "  duration  count\n",
      "0   94 min    140\n",
      "1   97 min    136\n",
      "2   93 min    135\n",
      "3   95 min    129\n",
      "4   90 min    128\n",
      "5   91 min    124\n",
      "6   96 min    117\n",
      "7  102 min    116\n",
      "8   98 min    115\n",
      "9   92 min    114\n"
     ]
    }
   ],
   "source": [
    "Durationtime_Movies = df['duration'][df['type']=='Movie'].value_counts().sort_values(ascending=False)[0:10].reset_index()\n",
    "print(Durationtime_Movies)"
   ]
  },
  {
   "cell_type": "code",
   "execution_count": 63,
   "id": "f0e4d728-1cc9-4849-932f-f98ea6708aa2",
   "metadata": {},
   "outputs": [
    {
     "name": "stdout",
     "output_type": "stream",
     "text": [
      "     duration  count\n",
      "0    1 Season    137\n",
      "1   2 Seasons     18\n",
      "2   5 Seasons      6\n",
      "3   4 Seasons      4\n",
      "4   9 Seasons      3\n",
      "5   6 Seasons      3\n",
      "6   3 Seasons      3\n",
      "7   8 Seasons      2\n",
      "8   7 Seasons      1\n",
      "9  15 Seasons      1\n"
     ]
    }
   ],
   "source": [
    "Durationtime_TV_Show = df['duration'][df['type']=='TV Show'].value_counts().sort_values(ascending=False)[0:10].reset_index()\n",
    "print(Durationtime_TV_Show)"
   ]
  },
  {
   "cell_type": "code",
   "execution_count": 64,
   "id": "65e83698-6cdf-4d15-97ff-545275420a5c",
   "metadata": {},
   "outputs": [
    {
     "name": "stdout",
     "output_type": "stream",
     "text": [
      "                                              genre  count\n",
      "0                      Dramas, International Movies    361\n",
      "1                                   Stand-Up Comedy    309\n",
      "2            Comedies, Dramas, International Movies    271\n",
      "3  Dramas, Independent Movies, International Movies    252\n",
      "4                Children & Family Movies, Comedies    193\n",
      "5                          Children & Family Movies    184\n",
      "6     Dramas, International Movies, Romantic Movies    174\n",
      "7                    Comedies, International Movies    173\n",
      "8                                     Documentaries    163\n",
      "9   Comedies, International Movies, Romantic Movies    149\n"
     ]
    }
   ],
   "source": [
    "Genrewise_Movies = df['genre'][df['type']=='Movie'].value_counts().sort_values(ascending=False)[0:10].reset_index()\n",
    "print(Genrewise_Movies)"
   ]
  },
  {
   "cell_type": "code",
   "execution_count": 65,
   "id": "09ddc3c1-b936-45d8-a0ff-590e9702e06d",
   "metadata": {},
   "outputs": [
    {
     "name": "stdout",
     "output_type": "stream",
     "text": [
      "                                               genre  count\n",
      "0  Crime TV Shows, International TV Shows, TV Dramas     18\n",
      "1  International TV Shows, Romantic TV Shows, TV ...     12\n",
      "2                                           TV Shows      9\n",
      "3                  International TV Shows, TV Dramas      8\n",
      "4          Stand-Up Comedy & Talk Shows, TV Comedies      7\n",
      "5                                         Docuseries      7\n",
      "6  International TV Shows, Korean TV Shows, Roman...      5\n",
      "7     International TV Shows, TV Comedies, TV Dramas      5\n",
      "8                              Kids' TV, TV Comedies      5\n",
      "9                                           Kids' TV      5\n"
     ]
    }
   ],
   "source": [
    "Genrewise_TV_Show = df['genre'][df['type']=='TV Show'].value_counts().sort_values(ascending=False)[0:10].reset_index()\n",
    "print(Genrewise_TV_Show)"
   ]
  },
  {
   "cell_type": "code",
   "execution_count": 66,
   "id": "eda3ecbb-9f03-432b-937b-22004c14a226",
   "metadata": {},
   "outputs": [],
   "source": [
    "#ANALYSIS USING GRAPHS"
   ]
  },
  {
   "cell_type": "code",
   "execution_count": 67,
   "id": "7e5d0e95-11f5-43ec-a0b0-f6c7d797384f",
   "metadata": {},
   "outputs": [
    {
     "data": {
      "image/png": "[encoded data removed]",
      "text/plain": [
       "<Figure size 600x600 with 1 Axes>"
      ]
     },
     "metadata": {},
     "output_type": "display_data"
    },
    {
     "data": {
      "text/plain": [
       "<Axes: ylabel='count'>"
      ]
     },
     "execution_count": 67,
     "metadata": {},
     "output_type": "execute_result"
    },
    {
     "data": {
      "image/png": "[encoded data removed]",
      "text/plain": [
       "<Figure size 640x480 with 1 Axes>"
      ]
     },
     "metadata": {},
     "output_type": "display_data"
    }
   ],
   "source": [
    "plt.figure(figsize=(6,6))\n",
    "sns.countplot(x='type',data=df,palette='husl')\n",
    "plt.show()\n",
    "df['type'].value_counts().plot(kind='pie',autopct='%.4f')"
   ]
  },
  {
   "cell_type": "code",
   "execution_count": 68,
   "id": "0affc0c1-bb56-433a-98f3-12c9294a9f76",
   "metadata": {},
   "outputs": [
    {
     "data": {
      "image/png": "[encoded data removed]",
      "text/plain": [
       "<Figure size 1000x800 with 1 Axes>"
      ]
     },
     "metadata": {},
     "output_type": "display_data"
    }
   ],
   "source": [
    "import matplotlib.pyplot as plt\n",
    "plt.figure(figsize=(10,8))\n",
    "plt.barh(directors_Movies[\"director\"],directors_Movies['count'], color ='orange', label='Count')\n",
    "plt.title('Top 10 Movie(Directors)')\n",
    "plt.xlabel('Directors')\n",
    "plt.ylabel('Count')\n",
    "plt.ylim(bottom=0)\n",
    "plt.show()"
   ]
  },
  {
   "cell_type": "code",
   "execution_count": 69,
   "id": "c33971aa-e606-489c-a896-20225a2caf18",
   "metadata": {},
   "outputs": [
    {
     "data": {
      "image/png": "[encoded data removed]",
      "text/plain": [
       "<Figure size 1000x800 with 1 Axes>"
      ]
     },
     "metadata": {},
     "output_type": "display_data"
    }
   ],
   "source": [
    "import matplotlib.pyplot as plt\n",
    "plt.figure(figsize=(10,8))\n",
    "plt.barh(directors_TV_Shows[\"director\"],directors_TV_Shows['count'],color ='#a678de', label='Count')\n",
    "plt.title('Top 10 TVShow(Directors)')\n",
    "plt.xlabel('Directors')\n",
    "plt.ylabel('Count')\n",
    "\n",
    "\n",
    "plt.show()"
   ]
  },
  {
   "cell_type": "code",
   "execution_count": 70,
   "id": "80f68b89-74ec-4d2d-8005-771cd3a6eb5d",
   "metadata": {},
   "outputs": [
    {
     "data": {
      "image/png": "[encoded data removed]",
      "text/plain": [
       "<Figure size 1000x800 with 1 Axes>"
      ]
     },
     "metadata": {},
     "output_type": "display_data"
    }
   ],
   "source": [
    "plt.figure(figsize=(10,8))\n",
    "plt.barh(Country_Movies[\"country\"],Country_Movies['count'],color ='orange', label='Count')\n",
    "plt.title('Countrywise Top 10 Movies')\n",
    "plt.xlabel('Country')\n",
    "plt.ylabel('Count')\n",
    "\n",
    "plt.show()"
   ]
  },
  {
   "cell_type": "code",
   "execution_count": 71,
   "id": "0ec85944-7e95-4e34-b331-cc5f9403fbd1",
   "metadata": {},
   "outputs": [
    {
     "data": {
      "image/png": "[encoded data removed]",
      "text/plain": [
       "<Figure size 1000x800 with 1 Axes>"
      ]
     },
     "metadata": {},
     "output_type": "display_data"
    }
   ],
   "source": [
    "plt.figure(figsize=(10,8))\n",
    "plt.barh(Country_TV_Shows['country'],Country_TV_Shows['count'],color ='#a678de', label='Count')\n",
    "plt.title('Countrywise Top 10 TV Shows')\n",
    "plt.xlabel('Country')\n",
    "plt.ylabel('Count')\n",
    "\n",
    "plt.show()"
   ]
  },
  {
   "cell_type": "code",
   "execution_count": 72,
   "id": "657f02a7-0371-4e06-bd40-06cb3a44c1ad",
   "metadata": {},
   "outputs": [
    {
     "data": {
      "image/png": "[encoded data removed]",
      "text/plain": [
       "<Figure size 1000x800 with 1 Axes>"
      ]
     },
     "metadata": {},
     "output_type": "display_data"
    }
   ],
   "source": [
    "plt.figure(figsize=(10,8))\n",
    "plt.barh(ReleaseYearwise_Movies[\"release_year\"],ReleaseYearwise_Movies['count'],color ='orange', label='Count')\n",
    "plt.title('ReleaseYearwise Top 10 Movies')\n",
    "plt.xlabel('ReleaseYear')\n",
    "plt.ylabel('ICount')\n",
    "\n",
    "plt.show()"
   ]
  },
  {
   "cell_type": "code",
   "execution_count": null,
   "id": "538b7dd9-7364-4383-ac9c-6e37902a55f4",
   "metadata": {},
   "outputs": [],
   "source": []
  }
 ],
 "metadata": {
  "kernelspec": {
   "display_name": "Python 3 (ipykernel)",
   "language": "python",
   "name": "python3"
  },
  "language_info": {
   "codemirror_mode": {
    "name": "ipython",
    "version": 3
   },
   "file_extension": ".py",
   "mimetype": "text/x-python",
   "name": "python",
   "nbconvert_exporter": "python",
   "pygments_lexer": "ipython3",
   "version": "3.11.7"
  }
 },
 "nbformat": 4,
 "nbformat_minor": 5
}
